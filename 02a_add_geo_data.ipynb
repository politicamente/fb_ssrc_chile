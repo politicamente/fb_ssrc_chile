{
 "cells": [
  {
   "cell_type": "code",
   "execution_count": 1,
   "metadata": {},
   "outputs": [],
   "source": [
    "import geopandas as gpd\n",
    "from shapely.geometry import Point, Polygon\n",
    "from scipy import spatial\n",
    "import numpy as np\n",
    "import pandas as pd"
   ]
  },
  {
   "cell_type": "code",
   "execution_count": 2,
   "metadata": {},
   "outputs": [
    {
     "data": {
      "text/html": [
       "<div>\n",
       "<style scoped>\n",
       "    .dataframe tbody tr th:only-of-type {\n",
       "        vertical-align: middle;\n",
       "    }\n",
       "\n",
       "    .dataframe tbody tr th {\n",
       "        vertical-align: top;\n",
       "    }\n",
       "\n",
       "    .dataframe thead th {\n",
       "        text-align: right;\n",
       "    }\n",
       "</style>\n",
       "<table border=\"1\" class=\"dataframe\">\n",
       "  <thead>\n",
       "    <tr style=\"text-align: right;\">\n",
       "      <th></th>\n",
       "      <th>comuna</th>\n",
       "      <th>ibt</th>\n",
       "      <th>iseg</th>\n",
       "      <th>nse</th>\n",
       "      <th>geometry</th>\n",
       "    </tr>\n",
       "  </thead>\n",
       "  <tbody>\n",
       "    <tr>\n",
       "      <th>40721</th>\n",
       "      <td>PUENTE ALTO</td>\n",
       "      <td>30.0</td>\n",
       "      <td>28.45</td>\n",
       "      <td>75.71</td>\n",
       "      <td>POLYGON ((-70.54646 -33.59121, -70.54651 -33.5...</td>\n",
       "    </tr>\n",
       "    <tr>\n",
       "      <th>40722</th>\n",
       "      <td>PUENTE ALTO</td>\n",
       "      <td>20.0</td>\n",
       "      <td>28.45</td>\n",
       "      <td>75.71</td>\n",
       "      <td>POLYGON ((-70.54512 -33.59019, -70.54514 -33.5...</td>\n",
       "    </tr>\n",
       "    <tr>\n",
       "      <th>40723</th>\n",
       "      <td>PUENTE ALTO</td>\n",
       "      <td>20.0</td>\n",
       "      <td>28.45</td>\n",
       "      <td>75.71</td>\n",
       "      <td>POLYGON ((-70.54406 -33.59091, -70.54436 -33.5...</td>\n",
       "    </tr>\n",
       "    <tr>\n",
       "      <th>40724</th>\n",
       "      <td>PUENTE ALTO</td>\n",
       "      <td>30.0</td>\n",
       "      <td>28.45</td>\n",
       "      <td>75.71</td>\n",
       "      <td>POLYGON ((-70.54362 -33.59163, -70.54372 -33.5...</td>\n",
       "    </tr>\n",
       "    <tr>\n",
       "      <th>40725</th>\n",
       "      <td>PUENTE ALTO</td>\n",
       "      <td>20.0</td>\n",
       "      <td>28.45</td>\n",
       "      <td>75.71</td>\n",
       "      <td>POLYGON ((-70.54555 -33.59051, -70.54557 -33.5...</td>\n",
       "    </tr>\n",
       "  </tbody>\n",
       "</table>\n",
       "</div>"
      ],
      "text/plain": [
       "            comuna   ibt   iseg    nse  \\\n",
       "40721  PUENTE ALTO  30.0  28.45  75.71   \n",
       "40722  PUENTE ALTO  20.0  28.45  75.71   \n",
       "40723  PUENTE ALTO  20.0  28.45  75.71   \n",
       "40724  PUENTE ALTO  30.0  28.45  75.71   \n",
       "40725  PUENTE ALTO  20.0  28.45  75.71   \n",
       "\n",
       "                                                geometry  \n",
       "40721  POLYGON ((-70.54646 -33.59121, -70.54651 -33.5...  \n",
       "40722  POLYGON ((-70.54512 -33.59019, -70.54514 -33.5...  \n",
       "40723  POLYGON ((-70.54406 -33.59091, -70.54436 -33.5...  \n",
       "40724  POLYGON ((-70.54362 -33.59163, -70.54372 -33.5...  \n",
       "40725  POLYGON ((-70.54555 -33.59051, -70.54557 -33.5...  "
      ]
     },
     "execution_count": 2,
     "metadata": {},
     "output_type": "execute_result"
    }
   ],
   "source": [
    "#load índice bienestar territorial 2012\n",
    "ibt = gpd.read_file('data/ibt_geo.shp', crs={'init': 'epsg:5361'})\n",
    "ibt = ibt.dropna(subset = ['nse']).reset_index(drop = True)\n",
    "ibt.tail()"
   ]
  },
  {
   "cell_type": "code",
   "execution_count": 3,
   "metadata": {},
   "outputs": [],
   "source": [
    "# calculate the centroid of each block\n",
    "mcentroids = ibt['geometry'].centroid"
   ]
  },
  {
   "cell_type": "code",
   "execution_count": 4,
   "metadata": {},
   "outputs": [],
   "source": [
    "# Create KDTree to consult the closest block per point\n",
    "data = list(zip(mcentroids.x.ravel(), mcentroids.y.ravel()))\n",
    "tree = spatial.KDTree(data = data, leafsize = 10)"
   ]
  },
  {
   "cell_type": "code",
   "execution_count": 5,
   "metadata": {},
   "outputs": [
    {
     "data": {
      "text/html": [
       "<div>\n",
       "<style scoped>\n",
       "    .dataframe tbody tr th:only-of-type {\n",
       "        vertical-align: middle;\n",
       "    }\n",
       "\n",
       "    .dataframe tbody tr th {\n",
       "        vertical-align: top;\n",
       "    }\n",
       "\n",
       "    .dataframe thead th {\n",
       "        text-align: right;\n",
       "    }\n",
       "</style>\n",
       "<table border=\"1\" class=\"dataframe\">\n",
       "  <thead>\n",
       "    <tr style=\"text-align: right;\">\n",
       "      <th></th>\n",
       "      <th>Unnamed: 0</th>\n",
       "      <th>post_id</th>\n",
       "      <th>loc</th>\n",
       "      <th>loc_unique_match</th>\n",
       "      <th>lat</th>\n",
       "      <th>lon</th>\n",
       "      <th>type</th>\n",
       "    </tr>\n",
       "  </thead>\n",
       "  <tbody>\n",
       "    <tr>\n",
       "      <th>0</th>\n",
       "      <td>1</td>\n",
       "      <td>FB_5574</td>\n",
       "      <td>Principe de Gales esq Tobalaba, La Reina, Regi...</td>\n",
       "      <td>1</td>\n",
       "      <td>-33.437832</td>\n",
       "      <td>-70.573589</td>\n",
       "      <td>GEOMETRIC_CENTER</td>\n",
       "    </tr>\n",
       "    <tr>\n",
       "      <th>1</th>\n",
       "      <td>2</td>\n",
       "      <td>FB_5577</td>\n",
       "      <td>Presidente Riesco esq Vitacura, Las Condes, Re...</td>\n",
       "      <td>2</td>\n",
       "      <td>-33.411530</td>\n",
       "      <td>-70.602785</td>\n",
       "      <td>GEOMETRIC_CENTER</td>\n",
       "    </tr>\n",
       "    <tr>\n",
       "      <th>2</th>\n",
       "      <td>3</td>\n",
       "      <td>FB_5592</td>\n",
       "      <td>Gimnasio municipal de Lo Barnechea, Lo Barnech...</td>\n",
       "      <td>3</td>\n",
       "      <td>-33.358367</td>\n",
       "      <td>-70.507986</td>\n",
       "      <td>ROOFTOP</td>\n",
       "    </tr>\n",
       "    <tr>\n",
       "      <th>3</th>\n",
       "      <td>4</td>\n",
       "      <td>FB_5595</td>\n",
       "      <td>Unión Comunal del Adulto Mayor, Las Condes , R...</td>\n",
       "      <td>4</td>\n",
       "      <td>-33.409212</td>\n",
       "      <td>-70.556373</td>\n",
       "      <td>ROOFTOP</td>\n",
       "    </tr>\n",
       "    <tr>\n",
       "      <th>4</th>\n",
       "      <td>5</td>\n",
       "      <td>FB_5614</td>\n",
       "      <td>Centro de Adulto Mayor, La Reina, Region Metro...</td>\n",
       "      <td>5</td>\n",
       "      <td>-33.439884</td>\n",
       "      <td>-70.566425</td>\n",
       "      <td>ROOFTOP</td>\n",
       "    </tr>\n",
       "  </tbody>\n",
       "</table>\n",
       "</div>"
      ],
      "text/plain": [
       "   Unnamed: 0  post_id                                                loc  \\\n",
       "0           1  FB_5574  Principe de Gales esq Tobalaba, La Reina, Regi...   \n",
       "1           2  FB_5577  Presidente Riesco esq Vitacura, Las Condes, Re...   \n",
       "2           3  FB_5592  Gimnasio municipal de Lo Barnechea, Lo Barnech...   \n",
       "3           4  FB_5595  Unión Comunal del Adulto Mayor, Las Condes , R...   \n",
       "4           5  FB_5614  Centro de Adulto Mayor, La Reina, Region Metro...   \n",
       "\n",
       "   loc_unique_match        lat        lon              type  \n",
       "0                 1 -33.437832 -70.573589  GEOMETRIC_CENTER  \n",
       "1                 2 -33.411530 -70.602785  GEOMETRIC_CENTER  \n",
       "2                 3 -33.358367 -70.507986           ROOFTOP  \n",
       "3                 4 -33.409212 -70.556373           ROOFTOP  \n",
       "4                 5 -33.439884 -70.566425           ROOFTOP  "
      ]
     },
     "execution_count": 5,
     "metadata": {},
     "output_type": "execute_result"
    }
   ],
   "source": [
    "# Import lat lon data\n",
    "georef = pd.read_csv('locs_geo_toro.csv', encoding = 'utf-8')\n",
    "georef.head()"
   ]
  },
  {
   "cell_type": "code",
   "execution_count": 9,
   "metadata": {},
   "outputs": [],
   "source": [
    "# Isolate lat lon points for KDTree queries\n",
    "pts = list(zip(georef['lon'].ravel(), georef['lat'].ravel()))"
   ]
  },
  {
   "cell_type": "code",
   "execution_count": 7,
   "metadata": {},
   "outputs": [
    {
     "name": "stdout",
     "output_type": "stream",
     "text": [
      "CPU times: user 29.2 ms, sys: 703 µs, total: 29.9 ms\n",
      "Wall time: 22.7 ms\n"
     ]
    }
   ],
   "source": [
    "%%time\n",
    "# Calculate the 2 nearest blocks per lat lon point\n",
    "kind = tree.query(pts, k = 2)[1]"
   ]
  },
  {
   "cell_type": "code",
   "execution_count": 8,
   "metadata": {},
   "outputs": [
    {
     "name": "stdout",
     "output_type": "stream",
     "text": [
      "CPU times: user 49.4 ms, sys: 15.2 ms, total: 64.6 ms\n",
      "Wall time: 47 ms\n"
     ]
    }
   ],
   "source": [
    "%%time\n",
    "# Calculate average NSE per block pair\n",
    "georef.loc[:,('nse')] = list(map(lambda i: ibt.loc[kind[i],'nse'].mean(), range(len(pts))))"
   ]
  },
  {
   "cell_type": "code",
   "execution_count": 23,
   "metadata": {},
   "outputs": [],
   "source": [
    "#output table, with lat lon data and an associated NSE\n",
    "georef.to_csv('posts_loc_toro.csv', encoding = 'utf-8', index = False)"
   ]
  }
 ],
 "metadata": {
  "kernelspec": {
   "display_name": "Python 3",
   "language": "python",
   "name": "python3"
  },
  "language_info": {
   "codemirror_mode": {
    "name": "ipython",
    "version": 3
   },
   "file_extension": ".py",
   "mimetype": "text/x-python",
   "name": "python",
   "nbconvert_exporter": "python",
   "pygments_lexer": "ipython3",
   "version": "3.7.3"
  }
 },
 "nbformat": 4,
 "nbformat_minor": 2
}
